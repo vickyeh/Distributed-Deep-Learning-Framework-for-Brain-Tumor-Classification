{
  "nbformat": 4,
  "nbformat_minor": 0,
  "metadata": {
    "colab": {
      "provenance": [],
      "machine_shape": "hm",
      "gpuType": "A100"
    },
    "kernelspec": {
      "name": "python3",
      "display_name": "Python 3"
    },
    "language_info": {
      "name": "python"
    },
    "accelerator": "GPU"
  },
  "cells": [
    {
      "cell_type": "code",
      "execution_count": null,
      "metadata": {
        "id": "I7TP0OICHLel"
      },
      "outputs": [],
      "source": [
        "import pandas as pd\n",
        "import numpy as np\n",
        "import os\n",
        "import warnings\n",
        "warnings.filterwarnings(action=\"ignore\")\n",
        "import matplotlib.pyplot as plt\n",
        "%matplotlib inline\n",
        "import tensorflow as tf\n",
        "from tensorflow.keras.models import Sequential, Model\n",
        "from tensorflow.keras.layers import *\n",
        "from tensorflow.keras.optimizers import *\n",
        "from tensorflow.keras.applications import *\n",
        "from tensorflow.keras.callbacks import *\n",
        "from tensorflow.keras.initializers import *\n",
        "\n",
        "from keras.applications.resnet import ResNet50,preprocess_input"
      ]
    },
    {
      "cell_type": "markdown",
      "source": [
        "# Load Data"
      ],
      "metadata": {
        "id": "RVrESLOHMs7w"
      }
    },
    {
      "cell_type": "code",
      "source": [
        "from google.colab import drive\n",
        "drive.mount('/content/drive')"
      ],
      "metadata": {
        "colab": {
          "base_uri": "https://localhost:8080/"
        },
        "id": "IC_NRJNRHQ7S",
        "outputId": "b025c080-69ab-48a5-e773-628d2da41893"
      },
      "execution_count": null,
      "outputs": [
        {
          "output_type": "stream",
          "name": "stdout",
          "text": [
            "Drive already mounted at /content/drive; to attempt to forcibly remount, call drive.mount(\"/content/drive\", force_remount=True).\n"
          ]
        }
      ]
    },
    {
      "cell_type": "code",
      "source": [
        "os.chdir(\"/content/drive/MyDrive/CSE547/project\")"
      ],
      "metadata": {
        "id": "Yv50127kLcjr"
      },
      "execution_count": null,
      "outputs": []
    },
    {
      "cell_type": "code",
      "source": [
        "train_images = np.load('train_images.npz')\n",
        "val_images = np.load('val_images.npz')\n",
        "test_images = np.load('test_images.npz')"
      ],
      "metadata": {
        "id": "pvg5ue-lJox5"
      },
      "execution_count": null,
      "outputs": []
    },
    {
      "cell_type": "code",
      "source": [
        "len(train_images.files)"
      ],
      "metadata": {
        "colab": {
          "base_uri": "https://localhost:8080/"
        },
        "id": "9VFwNhOGL0xx",
        "outputId": "ce20d250-ba4e-4ae9-d29f-5ef08fc400d4"
      },
      "execution_count": null,
      "outputs": [
        {
          "output_type": "execute_result",
          "data": {
            "text/plain": [
              "29883"
            ]
          },
          "metadata": {},
          "execution_count": 5
        }
      ]
    },
    {
      "cell_type": "code",
      "source": [
        "train_images = [train_images[key] for key in train_images.files]\n",
        "train_images = np.array(train_images)\n",
        "train_images.shape"
      ],
      "metadata": {
        "colab": {
          "base_uri": "https://localhost:8080/"
        },
        "id": "wBrtVLTsMDm5",
        "outputId": "c80d5083-54d0-4690-bf4d-f91098e50686"
      },
      "execution_count": null,
      "outputs": [
        {
          "output_type": "execute_result",
          "data": {
            "text/plain": [
              "(29883, 65536)"
            ]
          },
          "metadata": {},
          "execution_count": 6
        }
      ]
    },
    {
      "cell_type": "code",
      "source": [
        "train_images=train_images.reshape(29883,256,256)"
      ],
      "metadata": {
        "id": "mvSVgy6TMM3J"
      },
      "execution_count": null,
      "outputs": []
    },
    {
      "cell_type": "code",
      "source": [
        "val_images = [val_images[key] for key in val_images.files]\n",
        "val_images = np.array(val_images)\n",
        "val_images=val_images.reshape(6403,256,256)"
      ],
      "metadata": {
        "id": "sjvJ6IpKMGk5"
      },
      "execution_count": null,
      "outputs": []
    },
    {
      "cell_type": "code",
      "source": [
        "test_images = [test_images[key] for key in test_images.files]\n",
        "test_images = np.array(test_images)\n",
        "test_images=test_images.reshape(6407,256,256)"
      ],
      "metadata": {
        "id": "-_ACiZshMRKc"
      },
      "execution_count": null,
      "outputs": []
    },
    {
      "cell_type": "code",
      "source": [
        "train_labels = pd.read_csv('train_labels.csv')\n",
        "val_labels = pd.read_csv('val_labels.csv')\n",
        "test_labels = pd.read_csv('test_labels.csv')"
      ],
      "metadata": {
        "id": "aFhZyJgOMRtx"
      },
      "execution_count": null,
      "outputs": []
    },
    {
      "cell_type": "code",
      "source": [
        "train_labels"
      ],
      "metadata": {
        "colab": {
          "base_uri": "https://localhost:8080/",
          "height": 423
        },
        "id": "PJVrFRFeMWZP",
        "outputId": "d716251e-2a4f-4bbe-a1ff-8134f5e5485f"
      },
      "execution_count": null,
      "outputs": [
        {
          "output_type": "execute_result",
          "data": {
            "text/plain": [
              "       Unnamed: 0        class  case\n",
              "0            5780  Astrocytoma     9\n",
              "1           41892  Astrocytoma    62\n",
              "2           50748  Astrocytoma    74\n",
              "3           66607  Astrocytoma    97\n",
              "4           33034  Astrocytoma    48\n",
              "...           ...          ...   ...\n",
              "29878       49517  abnormality    72\n",
              "29879       28827  abnormality    42\n",
              "29880       21035  abnormality    30\n",
              "29881       24907  abnormality    36\n",
              "29882       25262  abnormality    36\n",
              "\n",
              "[29883 rows x 3 columns]"
            ],
            "text/html": [
              "\n",
              "  <div id=\"df-0d7123ee-20cf-4daa-a3eb-916f139faced\" class=\"colab-df-container\">\n",
              "    <div>\n",
              "<style scoped>\n",
              "    .dataframe tbody tr th:only-of-type {\n",
              "        vertical-align: middle;\n",
              "    }\n",
              "\n",
              "    .dataframe tbody tr th {\n",
              "        vertical-align: top;\n",
              "    }\n",
              "\n",
              "    .dataframe thead th {\n",
              "        text-align: right;\n",
              "    }\n",
              "</style>\n",
              "<table border=\"1\" class=\"dataframe\">\n",
              "  <thead>\n",
              "    <tr style=\"text-align: right;\">\n",
              "      <th></th>\n",
              "      <th>Unnamed: 0</th>\n",
              "      <th>class</th>\n",
              "      <th>case</th>\n",
              "    </tr>\n",
              "  </thead>\n",
              "  <tbody>\n",
              "    <tr>\n",
              "      <th>0</th>\n",
              "      <td>5780</td>\n",
              "      <td>Astrocytoma</td>\n",
              "      <td>9</td>\n",
              "    </tr>\n",
              "    <tr>\n",
              "      <th>1</th>\n",
              "      <td>41892</td>\n",
              "      <td>Astrocytoma</td>\n",
              "      <td>62</td>\n",
              "    </tr>\n",
              "    <tr>\n",
              "      <th>2</th>\n",
              "      <td>50748</td>\n",
              "      <td>Astrocytoma</td>\n",
              "      <td>74</td>\n",
              "    </tr>\n",
              "    <tr>\n",
              "      <th>3</th>\n",
              "      <td>66607</td>\n",
              "      <td>Astrocytoma</td>\n",
              "      <td>97</td>\n",
              "    </tr>\n",
              "    <tr>\n",
              "      <th>4</th>\n",
              "      <td>33034</td>\n",
              "      <td>Astrocytoma</td>\n",
              "      <td>48</td>\n",
              "    </tr>\n",
              "    <tr>\n",
              "      <th>...</th>\n",
              "      <td>...</td>\n",
              "      <td>...</td>\n",
              "      <td>...</td>\n",
              "    </tr>\n",
              "    <tr>\n",
              "      <th>29878</th>\n",
              "      <td>49517</td>\n",
              "      <td>abnormality</td>\n",
              "      <td>72</td>\n",
              "    </tr>\n",
              "    <tr>\n",
              "      <th>29879</th>\n",
              "      <td>28827</td>\n",
              "      <td>abnormality</td>\n",
              "      <td>42</td>\n",
              "    </tr>\n",
              "    <tr>\n",
              "      <th>29880</th>\n",
              "      <td>21035</td>\n",
              "      <td>abnormality</td>\n",
              "      <td>30</td>\n",
              "    </tr>\n",
              "    <tr>\n",
              "      <th>29881</th>\n",
              "      <td>24907</td>\n",
              "      <td>abnormality</td>\n",
              "      <td>36</td>\n",
              "    </tr>\n",
              "    <tr>\n",
              "      <th>29882</th>\n",
              "      <td>25262</td>\n",
              "      <td>abnormality</td>\n",
              "      <td>36</td>\n",
              "    </tr>\n",
              "  </tbody>\n",
              "</table>\n",
              "<p>29883 rows × 3 columns</p>\n",
              "</div>\n",
              "    <div class=\"colab-df-buttons\">\n",
              "\n",
              "  <div class=\"colab-df-container\">\n",
              "    <button class=\"colab-df-convert\" onclick=\"convertToInteractive('df-0d7123ee-20cf-4daa-a3eb-916f139faced')\"\n",
              "            title=\"Convert this dataframe to an interactive table.\"\n",
              "            style=\"display:none;\">\n",
              "\n",
              "  <svg xmlns=\"http://www.w3.org/2000/svg\" height=\"24px\" viewBox=\"0 -960 960 960\">\n",
              "    <path d=\"M120-120v-720h720v720H120Zm60-500h600v-160H180v160Zm220 220h160v-160H400v160Zm0 220h160v-160H400v160ZM180-400h160v-160H180v160Zm440 0h160v-160H620v160ZM180-180h160v-160H180v160Zm440 0h160v-160H620v160Z\"/>\n",
              "  </svg>\n",
              "    </button>\n",
              "\n",
              "  <style>\n",
              "    .colab-df-container {\n",
              "      display:flex;\n",
              "      gap: 12px;\n",
              "    }\n",
              "\n",
              "    .colab-df-convert {\n",
              "      background-color: #E8F0FE;\n",
              "      border: none;\n",
              "      border-radius: 50%;\n",
              "      cursor: pointer;\n",
              "      display: none;\n",
              "      fill: #1967D2;\n",
              "      height: 32px;\n",
              "      padding: 0 0 0 0;\n",
              "      width: 32px;\n",
              "    }\n",
              "\n",
              "    .colab-df-convert:hover {\n",
              "      background-color: #E2EBFA;\n",
              "      box-shadow: 0px 1px 2px rgba(60, 64, 67, 0.3), 0px 1px 3px 1px rgba(60, 64, 67, 0.15);\n",
              "      fill: #174EA6;\n",
              "    }\n",
              "\n",
              "    .colab-df-buttons div {\n",
              "      margin-bottom: 4px;\n",
              "    }\n",
              "\n",
              "    [theme=dark] .colab-df-convert {\n",
              "      background-color: #3B4455;\n",
              "      fill: #D2E3FC;\n",
              "    }\n",
              "\n",
              "    [theme=dark] .colab-df-convert:hover {\n",
              "      background-color: #434B5C;\n",
              "      box-shadow: 0px 1px 3px 1px rgba(0, 0, 0, 0.15);\n",
              "      filter: drop-shadow(0px 1px 2px rgba(0, 0, 0, 0.3));\n",
              "      fill: #FFFFFF;\n",
              "    }\n",
              "  </style>\n",
              "\n",
              "    <script>\n",
              "      const buttonEl =\n",
              "        document.querySelector('#df-0d7123ee-20cf-4daa-a3eb-916f139faced button.colab-df-convert');\n",
              "      buttonEl.style.display =\n",
              "        google.colab.kernel.accessAllowed ? 'block' : 'none';\n",
              "\n",
              "      async function convertToInteractive(key) {\n",
              "        const element = document.querySelector('#df-0d7123ee-20cf-4daa-a3eb-916f139faced');\n",
              "        const dataTable =\n",
              "          await google.colab.kernel.invokeFunction('convertToInteractive',\n",
              "                                                    [key], {});\n",
              "        if (!dataTable) return;\n",
              "\n",
              "        const docLinkHtml = 'Like what you see? Visit the ' +\n",
              "          '<a target=\"_blank\" href=https://colab.research.google.com/notebooks/data_table.ipynb>data table notebook</a>'\n",
              "          + ' to learn more about interactive tables.';\n",
              "        element.innerHTML = '';\n",
              "        dataTable['output_type'] = 'display_data';\n",
              "        await google.colab.output.renderOutput(dataTable, element);\n",
              "        const docLink = document.createElement('div');\n",
              "        docLink.innerHTML = docLinkHtml;\n",
              "        element.appendChild(docLink);\n",
              "      }\n",
              "    </script>\n",
              "  </div>\n",
              "\n",
              "\n",
              "<div id=\"df-30206d05-afe6-4e15-a4d2-3a491cb0c28c\">\n",
              "  <button class=\"colab-df-quickchart\" onclick=\"quickchart('df-30206d05-afe6-4e15-a4d2-3a491cb0c28c')\"\n",
              "            title=\"Suggest charts\"\n",
              "            style=\"display:none;\">\n",
              "\n",
              "<svg xmlns=\"http://www.w3.org/2000/svg\" height=\"24px\"viewBox=\"0 0 24 24\"\n",
              "     width=\"24px\">\n",
              "    <g>\n",
              "        <path d=\"M19 3H5c-1.1 0-2 .9-2 2v14c0 1.1.9 2 2 2h14c1.1 0 2-.9 2-2V5c0-1.1-.9-2-2-2zM9 17H7v-7h2v7zm4 0h-2V7h2v10zm4 0h-2v-4h2v4z\"/>\n",
              "    </g>\n",
              "</svg>\n",
              "  </button>\n",
              "\n",
              "<style>\n",
              "  .colab-df-quickchart {\n",
              "      --bg-color: #E8F0FE;\n",
              "      --fill-color: #1967D2;\n",
              "      --hover-bg-color: #E2EBFA;\n",
              "      --hover-fill-color: #174EA6;\n",
              "      --disabled-fill-color: #AAA;\n",
              "      --disabled-bg-color: #DDD;\n",
              "  }\n",
              "\n",
              "  [theme=dark] .colab-df-quickchart {\n",
              "      --bg-color: #3B4455;\n",
              "      --fill-color: #D2E3FC;\n",
              "      --hover-bg-color: #434B5C;\n",
              "      --hover-fill-color: #FFFFFF;\n",
              "      --disabled-bg-color: #3B4455;\n",
              "      --disabled-fill-color: #666;\n",
              "  }\n",
              "\n",
              "  .colab-df-quickchart {\n",
              "    background-color: var(--bg-color);\n",
              "    border: none;\n",
              "    border-radius: 50%;\n",
              "    cursor: pointer;\n",
              "    display: none;\n",
              "    fill: var(--fill-color);\n",
              "    height: 32px;\n",
              "    padding: 0;\n",
              "    width: 32px;\n",
              "  }\n",
              "\n",
              "  .colab-df-quickchart:hover {\n",
              "    background-color: var(--hover-bg-color);\n",
              "    box-shadow: 0 1px 2px rgba(60, 64, 67, 0.3), 0 1px 3px 1px rgba(60, 64, 67, 0.15);\n",
              "    fill: var(--button-hover-fill-color);\n",
              "  }\n",
              "\n",
              "  .colab-df-quickchart-complete:disabled,\n",
              "  .colab-df-quickchart-complete:disabled:hover {\n",
              "    background-color: var(--disabled-bg-color);\n",
              "    fill: var(--disabled-fill-color);\n",
              "    box-shadow: none;\n",
              "  }\n",
              "\n",
              "  .colab-df-spinner {\n",
              "    border: 2px solid var(--fill-color);\n",
              "    border-color: transparent;\n",
              "    border-bottom-color: var(--fill-color);\n",
              "    animation:\n",
              "      spin 1s steps(1) infinite;\n",
              "  }\n",
              "\n",
              "  @keyframes spin {\n",
              "    0% {\n",
              "      border-color: transparent;\n",
              "      border-bottom-color: var(--fill-color);\n",
              "      border-left-color: var(--fill-color);\n",
              "    }\n",
              "    20% {\n",
              "      border-color: transparent;\n",
              "      border-left-color: var(--fill-color);\n",
              "      border-top-color: var(--fill-color);\n",
              "    }\n",
              "    30% {\n",
              "      border-color: transparent;\n",
              "      border-left-color: var(--fill-color);\n",
              "      border-top-color: var(--fill-color);\n",
              "      border-right-color: var(--fill-color);\n",
              "    }\n",
              "    40% {\n",
              "      border-color: transparent;\n",
              "      border-right-color: var(--fill-color);\n",
              "      border-top-color: var(--fill-color);\n",
              "    }\n",
              "    60% {\n",
              "      border-color: transparent;\n",
              "      border-right-color: var(--fill-color);\n",
              "    }\n",
              "    80% {\n",
              "      border-color: transparent;\n",
              "      border-right-color: var(--fill-color);\n",
              "      border-bottom-color: var(--fill-color);\n",
              "    }\n",
              "    90% {\n",
              "      border-color: transparent;\n",
              "      border-bottom-color: var(--fill-color);\n",
              "    }\n",
              "  }\n",
              "</style>\n",
              "\n",
              "  <script>\n",
              "    async function quickchart(key) {\n",
              "      const quickchartButtonEl =\n",
              "        document.querySelector('#' + key + ' button');\n",
              "      quickchartButtonEl.disabled = true;  // To prevent multiple clicks.\n",
              "      quickchartButtonEl.classList.add('colab-df-spinner');\n",
              "      try {\n",
              "        const charts = await google.colab.kernel.invokeFunction(\n",
              "            'suggestCharts', [key], {});\n",
              "      } catch (error) {\n",
              "        console.error('Error during call to suggestCharts:', error);\n",
              "      }\n",
              "      quickchartButtonEl.classList.remove('colab-df-spinner');\n",
              "      quickchartButtonEl.classList.add('colab-df-quickchart-complete');\n",
              "    }\n",
              "    (() => {\n",
              "      let quickchartButtonEl =\n",
              "        document.querySelector('#df-30206d05-afe6-4e15-a4d2-3a491cb0c28c button');\n",
              "      quickchartButtonEl.style.display =\n",
              "        google.colab.kernel.accessAllowed ? 'block' : 'none';\n",
              "    })();\n",
              "  </script>\n",
              "</div>\n",
              "    </div>\n",
              "  </div>\n"
            ],
            "application/vnd.google.colaboratory.intrinsic+json": {
              "type": "dataframe",
              "variable_name": "train_labels",
              "summary": "{\n  \"name\": \"train_labels\",\n  \"rows\": 29883,\n  \"fields\": [\n    {\n      \"column\": \"Unnamed: 0\",\n      \"properties\": {\n        \"dtype\": \"number\",\n        \"std\": 22415,\n        \"min\": 3,\n        \"max\": 78558,\n        \"num_unique_values\": 29883,\n        \"samples\": [\n          7956,\n          65320,\n          10392\n        ],\n        \"semantic_type\": \"\",\n        \"description\": \"\"\n      }\n    },\n    {\n      \"column\": \"class\",\n      \"properties\": {\n        \"dtype\": \"category\",\n        \"num_unique_values\": 4,\n        \"samples\": [\n          \"Glioblastoma\",\n          \"abnormality\",\n          \"Astrocytoma\"\n        ],\n        \"semantic_type\": \"\",\n        \"description\": \"\"\n      }\n    },\n    {\n      \"column\": \"case\",\n      \"properties\": {\n        \"dtype\": \"number\",\n        \"std\": 32,\n        \"min\": 1,\n        \"max\": 114,\n        \"num_unique_values\": 107,\n        \"samples\": [\n          39,\n          12,\n          48\n        ],\n        \"semantic_type\": \"\",\n        \"description\": \"\"\n      }\n    }\n  ]\n}"
            }
          },
          "metadata": {},
          "execution_count": 11
        }
      ]
    },
    {
      "cell_type": "code",
      "source": [
        "train_labels['class'].value_counts()"
      ],
      "metadata": {
        "colab": {
          "base_uri": "https://localhost:8080/"
        },
        "id": "-Uf4xQ9EMaQ4",
        "outputId": "80e7ccfa-d1c8-4ff0-e317-13da3c0c016f"
      },
      "execution_count": null,
      "outputs": [
        {
          "output_type": "execute_result",
          "data": {
            "text/plain": [
              "class\n",
              "Astrocytoma          9216\n",
              "Glioblastoma         8658\n",
              "Oligodendroglioma    6703\n",
              "abnormality          5306\n",
              "Name: count, dtype: int64"
            ]
          },
          "metadata": {},
          "execution_count": 12
        }
      ]
    },
    {
      "cell_type": "code",
      "source": [
        "from sklearn.preprocessing import LabelEncoder\n",
        "from keras.utils import to_categorical\n",
        "classes=train_labels['class']\n",
        "label_encoder = LabelEncoder()\n",
        "integer_labels = label_encoder.fit_transform(classes)\n",
        "train_labels= to_categorical(integer_labels)\n",
        "\n",
        "classes=val_labels['class']\n",
        "label_encoder = LabelEncoder()\n",
        "integer_labels = label_encoder.fit_transform(classes)\n",
        "val_labels= to_categorical(integer_labels)\n",
        "\n",
        "classes=test_labels['class']\n",
        "label_encoder = LabelEncoder()\n",
        "integer_labels = label_encoder.fit_transform(classes)\n",
        "test_labels= to_categorical(integer_labels)\n",
        "\n",
        "train_images=np.stack((train_images,) * 3, axis=-1)\n",
        "val_images=np.stack((val_images,) * 3, axis=-1)\n",
        "test_images=np.stack((test_images,) * 3, axis=-1)"
      ],
      "metadata": {
        "id": "ddJJRszqT9YW"
      },
      "execution_count": null,
      "outputs": []
    },
    {
      "cell_type": "code",
      "source": [
        "train_images = preprocess_input(train_images)\n",
        "val_images= preprocess_input(val_images)\n",
        "test_images=preprocess_input(test_images)\n",
        "\n",
        "print(train_labels.shape)\n",
        "print(val_labels.shape)\n",
        "print(test_labels.shape)\n",
        "print(train_images.shape)\n",
        "print(val_images.shape)\n",
        "print(test_images.shape)"
      ],
      "metadata": {
        "id": "k7cJ2Xv-PU-S",
        "colab": {
          "base_uri": "https://localhost:8080/"
        },
        "outputId": "29d7e105-80e1-4c6c-faa1-13585cbf4413"
      },
      "execution_count": null,
      "outputs": [
        {
          "output_type": "stream",
          "name": "stdout",
          "text": [
            "(29883, 4)\n",
            "(6403, 4)\n",
            "(6407, 4)\n",
            "(29883, 256, 256, 3)\n",
            "(6403, 256, 256, 3)\n",
            "(6407, 256, 256, 3)\n"
          ]
        }
      ]
    },
    {
      "cell_type": "markdown",
      "source": [
        "# Resnet Model Training"
      ],
      "metadata": {
        "id": "HJCLg65xMv8-"
      }
    },
    {
      "cell_type": "code",
      "source": [
        "from keras.callbacks import ModelCheckpoint\n",
        "checkpoint = ModelCheckpoint(\"drive/MyDrive/CSE547/project/model_checkpoint1_2.h5\", monitor='val_accuracy', verbose=1, save_best_only=True, mode='max')"
      ],
      "metadata": {
        "id": "kgm4GWdIRJEE"
      },
      "execution_count": null,
      "outputs": []
    },
    {
      "cell_type": "code",
      "source": [
        "# Transfer Learning using Resnet50\n",
        "base_model = ResNet50(weights='imagenet', include_top=False, input_shape=(256,256,3))\n",
        "\n",
        "model=Sequential()\n",
        "model.add(base_model)\n",
        "model.add(Flatten())\n",
        "model.add(BatchNormalization())\n",
        "model.add(Dense(256,kernel_initializer='he_uniform'))\n",
        "model.add(BatchNormalization())\n",
        "model.add(Activation('relu'))\n",
        "model.add(Dropout(0.5))\n",
        "model.add(Dense(4,activation='sigmoid'))\n",
        "\n",
        "for layer in base_model.layers:\n",
        "    layer.trainable = False"
      ],
      "metadata": {
        "id": "KPLY1H_vMb7J"
      },
      "execution_count": null,
      "outputs": []
    },
    {
      "cell_type": "code",
      "source": [
        "from keras.optimizers import Adam\n",
        "from keras.callbacks import ReduceLROnPlateau\n",
        "\n",
        "# Training\n",
        "optimizer = Adam(learning_rate=0.00001)\n",
        "\n",
        "# Define the ReduceLROnPlateau callback\n",
        "reduce_lr = ReduceLROnPlateau(monitor='val_loss', factor=0.2, patience=5, min_lr=0.00001)\n",
        "\n",
        "model.compile(loss='categorical_crossentropy',\n",
        "              optimizer=optimizer,\n",
        "              metrics=['accuracy'])"
      ],
      "metadata": {
        "id": "YI8HAegutnJu"
      },
      "execution_count": null,
      "outputs": []
    },
    {
      "cell_type": "code",
      "source": [
        "import time\n",
        "start_time = time.time()\n",
        "history=model.fit(train_images, train_labels, epochs=30, batch_size=8, validation_data=(val_images, val_labels), callbacks=[reduce_lr, checkpoint])\n",
        "end_time = time.time()"
      ],
      "metadata": {
        "id": "KkyWqk2wOkdA",
        "colab": {
          "base_uri": "https://localhost:8080/"
        },
        "outputId": "4bff3576-f442-4450-940e-760815a9694b"
      },
      "execution_count": null,
      "outputs": [
        {
          "output_type": "stream",
          "name": "stdout",
          "text": [
            "Epoch 1/30\n",
            "3736/3736 [==============================] - ETA: 0s - loss: 1.3964 - accuracy: 0.4176\n",
            "Epoch 1: val_accuracy improved from -inf to 0.64360, saving model to drive/MyDrive/CSE547/project/model_checkpoint1_2.h5\n",
            "3736/3736 [==============================] - 87s 21ms/step - loss: 1.3964 - accuracy: 0.4176 - val_loss: 0.9056 - val_accuracy: 0.6436 - lr: 1.0000e-05\n",
            "Epoch 2/30\n",
            "3735/3736 [============================>.] - ETA: 0s - loss: 0.9768 - accuracy: 0.5990\n",
            "Epoch 2: val_accuracy improved from 0.64360 to 0.74137, saving model to drive/MyDrive/CSE547/project/model_checkpoint1_2.h5\n",
            "3736/3736 [==============================] - 69s 18ms/step - loss: 0.9769 - accuracy: 0.5990 - val_loss: 0.6960 - val_accuracy: 0.7414 - lr: 1.0000e-05\n",
            "Epoch 3/30\n",
            "3734/3736 [============================>.] - ETA: 0s - loss: 0.7487 - accuracy: 0.7065\n",
            "Epoch 3: val_accuracy improved from 0.74137 to 0.79931, saving model to drive/MyDrive/CSE547/project/model_checkpoint1_2.h5\n",
            "3736/3736 [==============================] - 70s 19ms/step - loss: 0.7485 - accuracy: 0.7066 - val_loss: 0.5786 - val_accuracy: 0.7993 - lr: 1.0000e-05\n",
            "Epoch 4/30\n",
            "3735/3736 [============================>.] - ETA: 0s - loss: 0.6009 - accuracy: 0.7726\n",
            "Epoch 4: val_accuracy improved from 0.79931 to 0.82836, saving model to drive/MyDrive/CSE547/project/model_checkpoint1_2.h5\n",
            "3736/3736 [==============================] - 69s 18ms/step - loss: 0.6008 - accuracy: 0.7725 - val_loss: 0.5083 - val_accuracy: 0.8284 - lr: 1.0000e-05\n",
            "Epoch 5/30\n",
            "3736/3736 [==============================] - ETA: 0s - loss: 0.5037 - accuracy: 0.8131\n",
            "Epoch 5: val_accuracy improved from 0.82836 to 0.85366, saving model to drive/MyDrive/CSE547/project/model_checkpoint1_2.h5\n",
            "3736/3736 [==============================] - 68s 18ms/step - loss: 0.5037 - accuracy: 0.8131 - val_loss: 0.4573 - val_accuracy: 0.8537 - lr: 1.0000e-05\n",
            "Epoch 6/30\n",
            "3734/3736 [============================>.] - ETA: 0s - loss: 0.4260 - accuracy: 0.8446\n",
            "Epoch 6: val_accuracy improved from 0.85366 to 0.86850, saving model to drive/MyDrive/CSE547/project/model_checkpoint1_2.h5\n",
            "3736/3736 [==============================] - 69s 19ms/step - loss: 0.4259 - accuracy: 0.8447 - val_loss: 0.4130 - val_accuracy: 0.8685 - lr: 1.0000e-05\n",
            "Epoch 7/30\n",
            "3735/3736 [============================>.] - ETA: 0s - loss: 0.3802 - accuracy: 0.8657\n",
            "Epoch 7: val_accuracy improved from 0.86850 to 0.88131, saving model to drive/MyDrive/CSE547/project/model_checkpoint1_2.h5\n",
            "3736/3736 [==============================] - 69s 18ms/step - loss: 0.3801 - accuracy: 0.8657 - val_loss: 0.3904 - val_accuracy: 0.8813 - lr: 1.0000e-05\n",
            "Epoch 8/30\n",
            "3735/3736 [============================>.] - ETA: 0s - loss: 0.3350 - accuracy: 0.8827\n",
            "Epoch 8: val_accuracy improved from 0.88131 to 0.88599, saving model to drive/MyDrive/CSE547/project/model_checkpoint1_2.h5\n",
            "3736/3736 [==============================] - 69s 19ms/step - loss: 0.3351 - accuracy: 0.8827 - val_loss: 0.3771 - val_accuracy: 0.8860 - lr: 1.0000e-05\n",
            "Epoch 9/30\n",
            "3736/3736 [==============================] - ETA: 0s - loss: 0.2957 - accuracy: 0.9000\n",
            "Epoch 9: val_accuracy improved from 0.88599 to 0.89739, saving model to drive/MyDrive/CSE547/project/model_checkpoint1_2.h5\n",
            "3736/3736 [==============================] - 69s 19ms/step - loss: 0.2957 - accuracy: 0.9000 - val_loss: 0.3363 - val_accuracy: 0.8974 - lr: 1.0000e-05\n",
            "Epoch 10/30\n",
            "3734/3736 [============================>.] - ETA: 0s - loss: 0.2692 - accuracy: 0.9110\n",
            "Epoch 10: val_accuracy improved from 0.89739 to 0.90083, saving model to drive/MyDrive/CSE547/project/model_checkpoint1_2.h5\n",
            "3736/3736 [==============================] - 69s 18ms/step - loss: 0.2691 - accuracy: 0.9110 - val_loss: 0.3405 - val_accuracy: 0.9008 - lr: 1.0000e-05\n",
            "Epoch 11/30\n",
            "3735/3736 [============================>.] - ETA: 0s - loss: 0.2560 - accuracy: 0.9151\n",
            "Epoch 11: val_accuracy improved from 0.90083 to 0.90395, saving model to drive/MyDrive/CSE547/project/model_checkpoint1_2.h5\n",
            "3736/3736 [==============================] - 69s 19ms/step - loss: 0.2559 - accuracy: 0.9151 - val_loss: 0.3359 - val_accuracy: 0.9040 - lr: 1.0000e-05\n",
            "Epoch 12/30\n",
            "3734/3736 [============================>.] - ETA: 0s - loss: 0.2332 - accuracy: 0.9231\n",
            "Epoch 12: val_accuracy did not improve from 0.90395\n",
            "3736/3736 [==============================] - 65s 17ms/step - loss: 0.2333 - accuracy: 0.9231 - val_loss: 0.3405 - val_accuracy: 0.9005 - lr: 1.0000e-05\n",
            "Epoch 13/30\n",
            "3733/3736 [============================>.] - ETA: 0s - loss: 0.2206 - accuracy: 0.9282\n",
            "Epoch 13: val_accuracy improved from 0.90395 to 0.90614, saving model to drive/MyDrive/CSE547/project/model_checkpoint1_2.h5\n",
            "3736/3736 [==============================] - 68s 18ms/step - loss: 0.2206 - accuracy: 0.9283 - val_loss: 0.3305 - val_accuracy: 0.9061 - lr: 1.0000e-05\n",
            "Epoch 14/30\n",
            "3736/3736 [==============================] - ETA: 0s - loss: 0.2050 - accuracy: 0.9345\n",
            "Epoch 14: val_accuracy improved from 0.90614 to 0.91223, saving model to drive/MyDrive/CSE547/project/model_checkpoint1_2.h5\n",
            "3736/3736 [==============================] - 69s 18ms/step - loss: 0.2050 - accuracy: 0.9345 - val_loss: 0.3181 - val_accuracy: 0.9122 - lr: 1.0000e-05\n",
            "Epoch 15/30\n",
            "3736/3736 [==============================] - ETA: 0s - loss: 0.1911 - accuracy: 0.9386\n",
            "Epoch 15: val_accuracy improved from 0.91223 to 0.91285, saving model to drive/MyDrive/CSE547/project/model_checkpoint1_2.h5\n",
            "3736/3736 [==============================] - 69s 18ms/step - loss: 0.1911 - accuracy: 0.9386 - val_loss: 0.3010 - val_accuracy: 0.9129 - lr: 1.0000e-05\n",
            "Epoch 16/30\n",
            "3736/3736 [==============================] - ETA: 0s - loss: 0.1851 - accuracy: 0.9406\n",
            "Epoch 16: val_accuracy improved from 0.91285 to 0.91410, saving model to drive/MyDrive/CSE547/project/model_checkpoint1_2.h5\n",
            "3736/3736 [==============================] - 69s 19ms/step - loss: 0.1851 - accuracy: 0.9406 - val_loss: 0.3063 - val_accuracy: 0.9141 - lr: 1.0000e-05\n",
            "Epoch 17/30\n",
            "3733/3736 [============================>.] - ETA: 0s - loss: 0.1695 - accuracy: 0.9463\n",
            "Epoch 17: val_accuracy improved from 0.91410 to 0.91848, saving model to drive/MyDrive/CSE547/project/model_checkpoint1_2.h5\n",
            "3736/3736 [==============================] - 69s 18ms/step - loss: 0.1695 - accuracy: 0.9463 - val_loss: 0.2999 - val_accuracy: 0.9185 - lr: 1.0000e-05\n",
            "Epoch 18/30\n",
            "3734/3736 [============================>.] - ETA: 0s - loss: 0.1707 - accuracy: 0.9455\n",
            "Epoch 18: val_accuracy did not improve from 0.91848\n",
            "3736/3736 [==============================] - 66s 18ms/step - loss: 0.1707 - accuracy: 0.9455 - val_loss: 0.3143 - val_accuracy: 0.9127 - lr: 1.0000e-05\n",
            "Epoch 19/30\n",
            "3733/3736 [============================>.] - ETA: 0s - loss: 0.1602 - accuracy: 0.9492\n",
            "Epoch 19: val_accuracy did not improve from 0.91848\n",
            "3736/3736 [==============================] - 65s 17ms/step - loss: 0.1603 - accuracy: 0.9492 - val_loss: 0.3003 - val_accuracy: 0.9152 - lr: 1.0000e-05\n",
            "Epoch 20/30\n",
            "3736/3736 [==============================] - ETA: 0s - loss: 0.1520 - accuracy: 0.9533\n",
            "Epoch 20: val_accuracy improved from 0.91848 to 0.92082, saving model to drive/MyDrive/CSE547/project/model_checkpoint1_2.h5\n",
            "3736/3736 [==============================] - 70s 19ms/step - loss: 0.1520 - accuracy: 0.9533 - val_loss: 0.3001 - val_accuracy: 0.9208 - lr: 1.0000e-05\n",
            "Epoch 21/30\n",
            "3734/3736 [============================>.] - ETA: 0s - loss: 0.1394 - accuracy: 0.9566\n",
            "Epoch 21: val_accuracy improved from 0.92082 to 0.92425, saving model to drive/MyDrive/CSE547/project/model_checkpoint1_2.h5\n",
            "3736/3736 [==============================] - 73s 19ms/step - loss: 0.1396 - accuracy: 0.9566 - val_loss: 0.2807 - val_accuracy: 0.9243 - lr: 1.0000e-05\n",
            "Epoch 22/30\n",
            "3736/3736 [==============================] - ETA: 0s - loss: 0.1427 - accuracy: 0.9542\n",
            "Epoch 22: val_accuracy did not improve from 0.92425\n",
            "3736/3736 [==============================] - 68s 18ms/step - loss: 0.1427 - accuracy: 0.9542 - val_loss: 0.3006 - val_accuracy: 0.9194 - lr: 1.0000e-05\n",
            "Epoch 23/30\n",
            "3735/3736 [============================>.] - ETA: 0s - loss: 0.1344 - accuracy: 0.9570\n",
            "Epoch 23: val_accuracy did not improve from 0.92425\n",
            "3736/3736 [==============================] - 68s 18ms/step - loss: 0.1344 - accuracy: 0.9570 - val_loss: 0.2914 - val_accuracy: 0.9239 - lr: 1.0000e-05\n",
            "Epoch 24/30\n",
            "3733/3736 [============================>.] - ETA: 0s - loss: 0.1235 - accuracy: 0.9623\n",
            "Epoch 24: val_accuracy did not improve from 0.92425\n",
            "3736/3736 [==============================] - 68s 18ms/step - loss: 0.1238 - accuracy: 0.9622 - val_loss: 0.3368 - val_accuracy: 0.9135 - lr: 1.0000e-05\n",
            "Epoch 25/30\n",
            "3734/3736 [============================>.] - ETA: 0s - loss: 0.1226 - accuracy: 0.9625\n",
            "Epoch 25: val_accuracy did not improve from 0.92425\n",
            "3736/3736 [==============================] - 68s 18ms/step - loss: 0.1226 - accuracy: 0.9625 - val_loss: 0.2956 - val_accuracy: 0.9210 - lr: 1.0000e-05\n",
            "Epoch 26/30\n",
            "3735/3736 [============================>.] - ETA: 0s - loss: 0.1206 - accuracy: 0.9620\n",
            "Epoch 26: val_accuracy improved from 0.92425 to 0.92613, saving model to drive/MyDrive/CSE547/project/model_checkpoint1_2.h5\n",
            "3736/3736 [==============================] - 73s 19ms/step - loss: 0.1206 - accuracy: 0.9620 - val_loss: 0.2855 - val_accuracy: 0.9261 - lr: 1.0000e-05\n",
            "Epoch 27/30\n",
            "3734/3736 [============================>.] - ETA: 0s - loss: 0.1188 - accuracy: 0.9628\n",
            "Epoch 27: val_accuracy did not improve from 0.92613\n",
            "3736/3736 [==============================] - 69s 18ms/step - loss: 0.1188 - accuracy: 0.9628 - val_loss: 0.3041 - val_accuracy: 0.9216 - lr: 1.0000e-05\n",
            "Epoch 28/30\n",
            "3733/3736 [============================>.] - ETA: 0s - loss: 0.1166 - accuracy: 0.9630\n",
            "Epoch 28: val_accuracy did not improve from 0.92613\n",
            "3736/3736 [==============================] - 68s 18ms/step - loss: 0.1167 - accuracy: 0.9630 - val_loss: 0.3039 - val_accuracy: 0.9258 - lr: 1.0000e-05\n",
            "Epoch 29/30\n",
            "3734/3736 [============================>.] - ETA: 0s - loss: 0.1112 - accuracy: 0.9663\n",
            "Epoch 29: val_accuracy did not improve from 0.92613\n",
            "3736/3736 [==============================] - 68s 18ms/step - loss: 0.1112 - accuracy: 0.9663 - val_loss: 0.3108 - val_accuracy: 0.9202 - lr: 1.0000e-05\n",
            "Epoch 30/30\n",
            "3735/3736 [============================>.] - ETA: 0s - loss: 0.1083 - accuracy: 0.9668\n",
            "Epoch 30: val_accuracy did not improve from 0.92613\n",
            "3736/3736 [==============================] - 69s 18ms/step - loss: 0.1083 - accuracy: 0.9668 - val_loss: 0.3067 - val_accuracy: 0.9246 - lr: 1.0000e-05\n"
          ]
        }
      ]
    },
    {
      "cell_type": "markdown",
      "source": [
        "# Train Results"
      ],
      "metadata": {
        "id": "nMLC3O-RVMj3"
      }
    },
    {
      "cell_type": "code",
      "source": [
        "print(\"Training Time:\", end_time - start_time)"
      ],
      "metadata": {
        "colab": {
          "base_uri": "https://localhost:8080/"
        },
        "id": "Iolf7O5BVLVk",
        "outputId": "989ccf91-d88b-4641-90cd-e3ee46a957ff"
      },
      "execution_count": null,
      "outputs": [
        {
          "output_type": "stream",
          "name": "stdout",
          "text": [
            "Training Time: 2125.609542608261\n"
          ]
        }
      ]
    },
    {
      "cell_type": "code",
      "source": [
        "training_accuracy = history.history['accuracy']\n",
        "training_loss = history.history['loss']\n",
        "print(\"Train Accuracy\", training_accuracy[-2])\n",
        "print(\"Train Loss\", training_loss[-2])"
      ],
      "metadata": {
        "colab": {
          "base_uri": "https://localhost:8080/"
        },
        "id": "TOBI3xlVVXxT",
        "outputId": "fbf42282-1aa6-4385-b0c7-e672ac07d619"
      },
      "execution_count": null,
      "outputs": [
        {
          "output_type": "stream",
          "name": "stdout",
          "text": [
            "Train Accuracy 0.9662684202194214\n",
            "Train Loss 0.11124289780855179\n"
          ]
        }
      ]
    },
    {
      "cell_type": "code",
      "source": [
        "plt.plot(history.history['loss'], label='train_loss')\n",
        "plt.plot(history.history['val_loss'], label='val_loss')\n",
        "plt.xlabel('Epoch')\n",
        "plt.ylabel('Loss')\n",
        "plt.legend()\n",
        "plt.show()\n",
        "\n",
        "plt.plot(history.history['accuracy'], label='train_accuracy')\n",
        "plt.plot(history.history['val_accuracy'], label='val_accuracy')\n",
        "plt.xlabel('Epoch')\n",
        "plt.ylabel('Accuracy')\n",
        "plt.legend()\n",
        "plt.show()"
      ],
      "metadata": {
        "colab": {
          "base_uri": "https://localhost:8080/",
          "height": 881
        },
        "id": "xtjS6KUzV9w3",
        "outputId": "f4de2f53-bb92-4627-8f71-2b417288f9a0"
      },
      "execution_count": null,
      "outputs": [
        {
          "output_type": "display_data",
          "data": {
            "text/plain": [
              "<Figure size 640x480 with 1 Axes>"
            ],
            "image/png": "[encoded data removed]"
          },
          "metadata": {}
        },
        {
          "output_type": "display_data",
          "data": {
            "text/plain": [
              "<Figure size 640x480 with 1 Axes>"
            ],
            "image/png": "[encoded data removed]"
          },
          "metadata": {}
        }
      ]
    },
    {
      "cell_type": "markdown",
      "source": [
        "# Test Results"
      ],
      "metadata": {
        "id": "6dKtngh0Vhw3"
      }
    },
    {
      "cell_type": "code",
      "source": [
        "model.load_weights(\"drive/MyDrive/CSE547/project/model_checkpoint1_2.h5\")"
      ],
      "metadata": {
        "id": "wqtPSIdjVg8v"
      },
      "execution_count": null,
      "outputs": []
    },
    {
      "cell_type": "code",
      "source": [
        "val_loss, val_accuracy = model.evaluate(val_images, val_labels)\n",
        "print(\"Validation Accuracy\", val_accuracy)\n",
        "print(\"Validation Loss\", val_loss)"
      ],
      "metadata": {
        "colab": {
          "base_uri": "https://localhost:8080/"
        },
        "id": "z6HgrjoaVcj6",
        "outputId": "0dfeb124-1236-4e99-c955-206f59dedfea"
      },
      "execution_count": null,
      "outputs": [
        {
          "output_type": "stream",
          "name": "stdout",
          "text": [
            "201/201 [==============================] - 7s 32ms/step - loss: 0.2855 - accuracy: 0.9261\n",
            "Validation Accuracy 0.9261283874511719\n",
            "Validation Loss 0.2855372130870819\n"
          ]
        }
      ]
    },
    {
      "cell_type": "code",
      "source": [
        "test_loss, test_accuracy = model.evaluate(test_images, test_labels)\n",
        "print(\"Test Accuracy\", test_accuracy)\n",
        "print(\"Test Loss\", test_loss)"
      ],
      "metadata": {
        "colab": {
          "base_uri": "https://localhost:8080/"
        },
        "id": "bg40kc2KV1QS",
        "outputId": "f2b1b53f-dcd8-48b9-814f-c67c401f5687"
      },
      "execution_count": null,
      "outputs": [
        {
          "output_type": "stream",
          "name": "stdout",
          "text": [
            "201/201 [==============================] - 7s 34ms/step - loss: 0.2741 - accuracy: 0.9173\n",
            "Test Accuracy 0.917277991771698\n",
            "Test Loss 0.27408167719841003\n"
          ]
        }
      ]
    },
    {
      "cell_type": "markdown",
      "source": [
        "# Evaluation"
      ],
      "metadata": {
        "id": "h_HkJAO-WDTE"
      }
    },
    {
      "cell_type": "code",
      "source": [
        "from sklearn.metrics import roc_curve, auc\n",
        "from mlxtend.evaluate import confusion_matrix\n",
        "from mlxtend.plotting import plot_confusion_matrix"
      ],
      "metadata": {
        "id": "0ustjf1AWFKF"
      },
      "execution_count": null,
      "outputs": []
    },
    {
      "cell_type": "code",
      "source": [
        "predictions = model.predict(test_images)\n",
        "predicted_labels = np.argmax(predictions, axis=1)\n",
        "\n",
        "true_labels = np.argmax(test_labels, axis=1)\n",
        "\n",
        "cm = confusion_matrix(true_labels, predicted_labels)\n",
        "\n",
        "fig, ax = plot_confusion_matrix(conf_mat=cm)"
      ],
      "metadata": {
        "colab": {
          "base_uri": "https://localhost:8080/",
          "height": 467
        },
        "id": "zBc1L0eZWLTN",
        "outputId": "0060259b-2426-4ece-abd4-47df4e999dc0"
      },
      "execution_count": null,
      "outputs": [
        {
          "output_type": "stream",
          "name": "stdout",
          "text": [
            "201/201 [==============================] - 7s 28ms/step\n"
          ]
        },
        {
          "output_type": "display_data",
          "data": {
            "text/plain": [
              "<Figure size 640x480 with 1 Axes>"
            ],
            "image/png": "[encoded data removed]"
          },
          "metadata": {}
        }
      ]
    },
    {
      "cell_type": "code",
      "source": [
        "from sklearn.metrics import precision_score, recall_score, fbeta_score\n",
        "\n",
        "precision = precision_score(true_labels, predicted_labels, average='weighted')\n",
        "recall = recall_score(true_labels, predicted_labels, average='weighted')\n",
        "f2_score = fbeta_score(true_labels, predicted_labels, beta=2, average='weighted')\n",
        "\n",
        "print(\"Precision:\", precision)\n",
        "print(\"Recall:\", recall)\n",
        "print(\"F2 Score:\", f2_score)"
      ],
      "metadata": {
        "colab": {
          "base_uri": "https://localhost:8080/"
        },
        "id": "tcfcoGY5WOAv",
        "outputId": "fa7a13e8-1b51-47ad-ca4c-8443e428014a"
      },
      "execution_count": null,
      "outputs": [
        {
          "output_type": "stream",
          "name": "stdout",
          "text": [
            "Precision: 0.9173109055106693\n",
            "Recall: 0.9172779772124239\n",
            "F2 Score: 0.9172648335484311\n"
          ]
        }
      ]
    },
    {
      "cell_type": "code",
      "source": [
        "class_labels = label_encoder.classes_\n",
        "\n",
        "print(\"Class Labels:\")\n",
        "for i, label in enumerate(class_labels):\n",
        "    print(f\"Class {i}: {label}\")"
      ],
      "metadata": {
        "colab": {
          "base_uri": "https://localhost:8080/"
        },
        "id": "SH4VoU-BWS56",
        "outputId": "7a2a4488-73d6-4f84-a2a9-d03b3479fa3c"
      },
      "execution_count": null,
      "outputs": [
        {
          "output_type": "stream",
          "name": "stdout",
          "text": [
            "Class Labels:\n",
            "Class 0: Astrocytoma\n",
            "Class 1: Glioblastoma\n",
            "Class 2: Oligodendroglioma\n",
            "Class 3: abnormality\n"
          ]
        }
      ]
    },
    {
      "cell_type": "code",
      "source": [
        "fpr = dict()\n",
        "tpr = dict()\n",
        "roc_auc = dict()\n",
        "for i in range(4):\n",
        "    fpr[i], tpr[i], _ = roc_curve(test_labels[:, i], predictions[:, i])\n",
        "    roc_auc[i] = auc(fpr[i], tpr[i])\n",
        "\n",
        "plt.figure(figsize=(8, 6))\n",
        "for i in range(4):\n",
        "    plt.plot(fpr[i], tpr[i], lw=2, label='ROC curve of class %s (area = %0.2f)' % (class_labels[i], roc_auc[i]))\n",
        "\n",
        "plt.xlabel('False Positive Rate')\n",
        "plt.ylabel('True Positive Rate')\n",
        "plt.title('Individual ROC Curve')\n",
        "plt.legend(loc='lower right')\n",
        "plt.show()"
      ],
      "metadata": {
        "colab": {
          "base_uri": "https://localhost:8080/",
          "height": 515
        },
        "id": "1GXGou5fWVIX",
        "outputId": "709606d7-91d3-4abb-92ef-a68eb05202f1"
      },
      "execution_count": null,
      "outputs": [
        {
          "output_type": "display_data",
          "data": {
            "text/plain": [
              "<Figure size 800x600 with 1 Axes>"
            ],
            "image/png": "[encoded data removed]"
          },
          "metadata": {}
        }
      ]
    },
    {
      "cell_type": "code",
      "source": [
        "fpr_avg, tpr_avg, _ = roc_curve(test_labels.ravel(), predictions.ravel())\n",
        "roc_auc_avg = auc(fpr_avg, tpr_avg)\n",
        "\n",
        "plt.figure(figsize=(8, 6))\n",
        "plt.plot(fpr_avg, tpr_avg, color='blue', lw=2, label='Average ROC curve (area = %0.2f)' % roc_auc_avg)\n",
        "\n",
        "plt.xlabel('False Positive Rate')\n",
        "plt.ylabel('True Positive Rate')\n",
        "plt.title('Average ROC Curve')\n",
        "plt.legend(loc='lower right')\n",
        "plt.show()"
      ],
      "metadata": {
        "colab": {
          "base_uri": "https://localhost:8080/",
          "height": 515
        },
        "id": "NmiIfxBjWbVl",
        "outputId": "766325a4-247e-4efc-fc1b-fae9bb7d3696"
      },
      "execution_count": null,
      "outputs": [
        {
          "output_type": "display_data",
          "data": {
            "text/plain": [
              "<Figure size 800x600 with 1 Axes>"
            ],
            "image/png": "[encoded data removed]"
          },
          "metadata": {}
        }
      ]
    }
  ]
}